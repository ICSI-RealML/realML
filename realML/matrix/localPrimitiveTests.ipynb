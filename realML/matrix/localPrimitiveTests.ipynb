{
 "cells": [
  {
   "cell_type": "code",
   "execution_count": 9,
   "metadata": {},
   "outputs": [
    {
     "name": "stdout",
     "output_type": "stream",
     "text": [
      "The autoreload extension is already loaded. To reload it, use:\n",
      "  %reload_ext autoreload\n"
     ]
    }
   ],
   "source": [
    "%load_ext autoreload\n",
    "%autoreload 2"
   ]
  },
  {
   "cell_type": "code",
   "execution_count": 10,
   "metadata": {},
   "outputs": [
    {
     "data": {
      "text/plain": [
       "[d3m.primitives.realML.TensorMachinesBinaryClassification,\n",
       " d3m.primitives.realML.RFMPreconditionedPolynomialKRR,\n",
       " d3m.primitives.realML.L1LowRank,\n",
       " d3m.primitives.realML.TensorMachinesRegularizedLeastSquares,\n",
       " d3m.primitives.realML.FastLAD,\n",
       " d3m.primitives.realML.RFMPreconditionedGaussianKRR]"
      ]
     },
     "execution_count": 10,
     "metadata": {},
     "output_type": "execute_result"
    }
   ],
   "source": [
    "import d3m.index\n",
    "d3m.index.load_all()\n",
    "primlist = d3m.index.get_loaded_primitives()\n",
    "primlist"
   ]
  },
  {
   "cell_type": "code",
   "execution_count": null,
   "metadata": {},
   "outputs": [],
   "source": [
    "%run LADregression.py\n",
    "\n",
    "primclass = primlist[2]\n",
    "hyperparams_class = primclass.metadata.query()['primitive_code']['class_type_arguments']['Hyperparams']\n",
    "primitive = primclass(hyperparams=hyperparams_class.defaults())\n",
    "\n",
    "primitive.set_training_data(inputs=Xtrain, outputs=ytrain)\n",
    "primitive.fit()\n",
    "preds = primitive.produce(inputs = Xtrain)"
   ]
  },
  {
   "cell_type": "code",
   "execution_count": null,
   "metadata": {},
   "outputs": [],
   "source": [
    "norm(preds.value - ytrain, 1)"
   ]
  },
  {
   "cell_type": "code",
   "execution_count": null,
   "metadata": {},
   "outputs": [],
   "source": [
    "ytrain.shape"
   ]
  },
  {
   "cell_type": "code",
   "execution_count": 11,
   "metadata": {},
   "outputs": [
    {
     "name": "stdout",
     "output_type": "stream",
     "text": [
      "Relative objective value using Cauchy transforms is 1.897675\n",
      "Relative objective value using SVD is 198.005000\n"
     ]
    },
    {
     "data": {
      "text/plain": [
       "[d3m.primitives.realML.TensorMachinesBinaryClassification,\n",
       " d3m.primitives.realML.RFMPreconditionedPolynomialKRR,\n",
       " d3m.primitives.realML.L1LowRank,\n",
       " d3m.primitives.realML.TensorMachinesRegularizedLeastSquares,\n",
       " d3m.primitives.realML.FastLAD,\n",
       " d3m.primitives.realML.RFMPreconditionedGaussianKRR]"
      ]
     },
     "execution_count": 11,
     "metadata": {},
     "output_type": "execute_result"
    }
   ],
   "source": [
    "%run approxL1LowRankDecomposition.py\n",
    "\n",
    "primlist"
   ]
  },
  {
   "cell_type": "code",
   "execution_count": 45,
   "metadata": {},
   "outputs": [
    {
     "data": {
      "text/plain": [
       "5.455234395480814"
      ]
     },
     "execution_count": 45,
     "metadata": {},
     "output_type": "execute_result"
    }
   ],
   "source": [
    "primclass = primlist[2]\n",
    "hyperparams_class = primclass.metadata.query()['primitive_code']['class_type_arguments']['Hyperparams']\n",
    "choices = hyperparams_class({'rank':2, 'rankMultiplier':3, 'numReps':1})\n",
    "primitive = primclass(hyperparams=hyperparams_class.defaults(), random_seed=82)\n",
    "\n",
    "primitive.set_training_data(inputs=X)\n",
    "primitive.fit()\n",
    "params = primitive.get_params()\n",
    "\n",
    "A = params['A']\n",
    "B = params['B']\n",
    "norm((A.dot(B) - X).flatten(), 1)/n"
   ]
  },
  {
   "cell_type": "code",
   "execution_count": null,
   "metadata": {},
   "outputs": [],
   "source": [
    "r = primitive.produce(inputs=X)"
   ]
  },
  {
   "cell_type": "code",
   "execution_count": null,
   "metadata": {},
   "outputs": [],
   "source": [
    "norm(r.value - X, 1)/n"
   ]
  },
  {
   "cell_type": "code",
   "execution_count": 13,
   "metadata": {},
   "outputs": [
    {
     "data": {
      "text/plain": [
       "Hyperparams({'coresetmultiplier': 4, 'eps': 1e-06, 'maxIters': 100})"
      ]
     },
     "execution_count": 13,
     "metadata": {},
     "output_type": "execute_result"
    }
   ],
   "source": [
    "hyperparams_class.defaults()"
   ]
  },
  {
   "cell_type": "code",
   "execution_count": 31,
   "metadata": {},
   "outputs": [
    {
     "data": {
      "text/plain": [
       "Hyperparams({'rank': 5, 'rankMultiplier': 5, 'numReps': 1})"
      ]
     },
     "execution_count": 31,
     "metadata": {},
     "output_type": "execute_result"
    }
   ],
   "source": [
    "hyperparams_class.defaults()"
   ]
  },
  {
   "cell_type": "code",
   "execution_count": 18,
   "metadata": {},
   "outputs": [
    {
     "data": {
      "text/plain": [
       "(200, 200)"
      ]
     },
     "execution_count": 18,
     "metadata": {},
     "output_type": "execute_result"
    }
   ],
   "source": [
    "X.shape"
   ]
  },
  {
   "cell_type": "code",
   "execution_count": 23,
   "metadata": {},
   "outputs": [
    {
     "data": {
      "text/plain": [
       "-5"
      ]
     },
     "execution_count": 23,
     "metadata": {},
     "output_type": "execute_result"
    }
   ],
   "source": [
    "min(6,-5)"
   ]
  },
  {
   "cell_type": "code",
   "execution_count": 25,
   "metadata": {},
   "outputs": [
    {
     "data": {
      "text/plain": [
       "2"
      ]
     },
     "execution_count": 25,
     "metadata": {},
     "output_type": "execute_result"
    }
   ],
   "source": [
    "len(np.array([6,7]))"
   ]
  },
  {
   "cell_type": "code",
   "execution_count": null,
   "metadata": {},
   "outputs": [],
   "source": []
  }
 ],
 "metadata": {
  "kernelspec": {
   "display_name": "Python 3",
   "language": "python",
   "name": "python3"
  },
  "language_info": {
   "codemirror_mode": {
    "name": "ipython",
    "version": 3
   },
   "file_extension": ".py",
   "mimetype": "text/x-python",
   "name": "python",
   "nbconvert_exporter": "python",
   "pygments_lexer": "ipython3",
   "version": "3.6.5"
  }
 },
 "nbformat": 4,
 "nbformat_minor": 2
}
